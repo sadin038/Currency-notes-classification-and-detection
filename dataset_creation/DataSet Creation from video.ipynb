{
 "cells": [
  {
   "cell_type": "code",
   "execution_count": null,
   "id": "9c0ba8a6",
   "metadata": {},
   "outputs": [],
   "source": [
    "import cv2\n",
    "import os\n",
    "\n",
    "webCam=cv2.VideoCapture('E:/AThesis/2.mp4')\n",
    "cframe=0\n",
    "\n",
    "if not os.path.exists('two'):\n",
    "    os.makedirs('two')\n",
    "    \n",
    "while(True):\n",
    "    success,new=webCam.read()\n",
    "    \n",
    "    cv2.imshow('Output', new)\n",
    "    cv2.imwrite('./two/new'+str(cframe)+'.png',new)\n",
    "    cframe+=1\n",
    "    \n",
    "    if  cv2.waitKey(1) & 0xFF==ord('q'):\n",
    "        break\n",
    "\n",
    "webCam.release()\n",
    "cv2.destroyAllWindows()"
   ]
  }
 ],
 "metadata": {
  "kernelspec": {
   "display_name": "gpu2",
   "language": "python",
   "name": "gpu2"
  },
  "language_info": {
   "codemirror_mode": {
    "name": "ipython",
    "version": 3
   },
   "file_extension": ".py",
   "mimetype": "text/x-python",
   "name": "python",
   "nbconvert_exporter": "python",
   "pygments_lexer": "ipython3",
   "version": "3.6.13"
  }
 },
 "nbformat": 4,
 "nbformat_minor": 5
}
