{
 "cells": [
  {
   "cell_type": "code",
   "execution_count": 11,
   "id": "fd0159a9",
   "metadata": {},
   "outputs": [],
   "source": [
    "import os"
   ]
  },
  {
   "cell_type": "code",
   "execution_count": 12,
   "id": "add7d1f5",
   "metadata": {},
   "outputs": [],
   "source": [
    "path=os.chdir('E:\\\\AThesis\\\\Final\\\\testing_set\\\\1.two')\n",
    "i=1\n",
    "for pic in os.listdir(path):\n",
    "    new_name=\"two{}.png\".format(i)\n",
    "    os.rename(pic,new_name)\n",
    "    i+=1\n",
    "    "
   ]
  },
  {
   "cell_type": "code",
   "execution_count": 13,
   "id": "99829355",
   "metadata": {},
   "outputs": [],
   "source": [
    "path=os.chdir('E:\\\\AThesis\\\\Final\\\\testing_set\\\\2.five')\n",
    "i=1\n",
    "for pic in os.listdir(path):\n",
    "    new_name=\"five{}.png\".format(i)\n",
    "    os.rename(pic,new_name)\n",
    "    i+=1"
   ]
  },
  {
   "cell_type": "code",
   "execution_count": 14,
   "id": "3da1bc57",
   "metadata": {},
   "outputs": [],
   "source": [
    "path=os.chdir('E:\\\\AThesis\\\\Final\\\\testing_set\\\\3.ten')\n",
    "i=1\n",
    "for pic in os.listdir(path):\n",
    "    new_name=\"ten{}.png\".format(i)\n",
    "    os.rename(pic,new_name)\n",
    "    i+=1"
   ]
  },
  {
   "cell_type": "code",
   "execution_count": 15,
   "id": "bcc06b5a",
   "metadata": {},
   "outputs": [],
   "source": [
    "path=os.chdir('E:\\\\AThesis\\\\Final\\\\testing_set\\\\4.twenty')\n",
    "i=1\n",
    "for pic in os.listdir(path):\n",
    "    new_name=\"twenty{}.png\".format(i)\n",
    "    os.rename(pic,new_name)\n",
    "    i+=1"
   ]
  },
  {
   "cell_type": "code",
   "execution_count": 16,
   "id": "5cb3bddf",
   "metadata": {},
   "outputs": [],
   "source": [
    "path=os.chdir('E:\\\\AThesis\\\\Final\\\\testing_set\\\\5.fifty')\n",
    "i=1\n",
    "for pic in os.listdir(path):\n",
    "    new_name=\"fifty{}.png\".format(i)\n",
    "    os.rename(pic,new_name)\n",
    "    i+=1"
   ]
  },
  {
   "cell_type": "code",
   "execution_count": 17,
   "id": "f19ddf7f",
   "metadata": {},
   "outputs": [],
   "source": [
    "path=os.chdir('E:\\\\AThesis\\\\Final\\\\testing_set\\\\6.one_hundred')\n",
    "i=1\n",
    "for pic in os.listdir(path):\n",
    "    new_name=\"one_hundred{}.png\".format(i)\n",
    "    os.rename(pic,new_name)\n",
    "    i+=1"
   ]
  },
  {
   "cell_type": "code",
   "execution_count": 18,
   "id": "694089bd",
   "metadata": {},
   "outputs": [],
   "source": [
    "path=os.chdir('E:\\\\AThesis\\\\Final\\\\testing_set\\\\7.two_hundred')\n",
    "i=1\n",
    "for pic in os.listdir(path):\n",
    "    new_name=\"two_hundred{}.png\".format(i)\n",
    "    os.rename(pic,new_name)\n",
    "    i+=1"
   ]
  },
  {
   "cell_type": "code",
   "execution_count": 19,
   "id": "3f7b7fa8",
   "metadata": {},
   "outputs": [],
   "source": [
    "path=os.chdir('E:\\\\AThesis\\\\Final\\\\testing_set\\\\8.five_hundred')\n",
    "i=1\n",
    "for pic in os.listdir(path):\n",
    "    new_name=\"five_hundred{}.png\".format(i)\n",
    "    os.rename(pic,new_name)\n",
    "    i+=1"
   ]
  },
  {
   "cell_type": "code",
   "execution_count": 20,
   "id": "d3c4141f",
   "metadata": {},
   "outputs": [],
   "source": [
    "path=os.chdir('E:\\\\AThesis\\\\Final\\\\testing_set\\\\9.one_thousand')\n",
    "i=1\n",
    "for pic in os.listdir(path):\n",
    "    new_name=\"one_thousand{}.png\".format(i)\n",
    "    os.rename(pic,new_name)\n",
    "    i+=1"
   ]
  },
  {
   "cell_type": "code",
   "execution_count": null,
   "id": "0d9bc03e",
   "metadata": {},
   "outputs": [],
   "source": []
  }
 ],
 "metadata": {
  "kernelspec": {
   "display_name": "gpu2",
   "language": "python",
   "name": "gpu2"
  },
  "language_info": {
   "codemirror_mode": {
    "name": "ipython",
    "version": 3
   },
   "file_extension": ".py",
   "mimetype": "text/x-python",
   "name": "python",
   "nbconvert_exporter": "python",
   "pygments_lexer": "ipython3",
   "version": "3.6.13"
  }
 },
 "nbformat": 4,
 "nbformat_minor": 5
}
