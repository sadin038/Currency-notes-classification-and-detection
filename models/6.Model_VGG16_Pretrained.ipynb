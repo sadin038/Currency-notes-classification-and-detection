{
 "cells": [
  {
   "cell_type": "code",
   "execution_count": 2,
   "metadata": {
    "executionInfo": {
     "elapsed": 3837,
     "status": "ok",
     "timestamp": 1647606347494,
     "user": {
      "displayName": "16_038 Niloy Banik",
      "photoUrl": "https://lh3.googleusercontent.com/a-/AOh14GgRGQZD8Tl4xOLCNeLcfxfcPprIAW7QZ1CwfRM8=s64",
      "userId": "08142048259396518017"
     },
     "user_tz": -360
    },
    "id": "BuA_xXtYBgtf"
   },
   "outputs": [],
   "source": [
    "import os\n",
    "import numpy as np\n",
    "import matplotlib.pyplot as plt\n",
    "import random\n",
    "import cv2\n",
    "import PIL\n",
    "import glob\n",
    "import tensorflow as tf\n",
    "from tensorflow import keras\n",
    "from tensorflow.keras import layers\n",
    "from tensorflow.keras.preprocessing.image import ImageDataGenerator"
   ]
  },
  {
   "cell_type": "code",
   "execution_count": 4,
   "metadata": {
    "executionInfo": {
     "elapsed": 3,
     "status": "ok",
     "timestamp": 1647606552752,
     "user": {
      "displayName": "16_038 Niloy Banik",
      "photoUrl": "https://lh3.googleusercontent.com/a-/AOh14GgRGQZD8Tl4xOLCNeLcfxfcPprIAW7QZ1CwfRM8=s64",
      "userId": "08142048259396518017"
     },
     "user_tz": -360
    },
    "id": "0BsNrCevbj6V"
   },
   "outputs": [],
   "source": [
    "ROOTPATH = 'E:/AThesis/Final'\n",
    "DATAPATH= ROOTPATH+'/training_set'\n",
    "TRAINPATH = ROOTPATH+'/training_set'\n",
    "TESTPATH =  ROOTPATH+'/testing_set'\n",
    "MODELPATH = ROOTPATH+'/model'"
   ]
  },
  {
   "cell_type": "code",
   "execution_count": 5,
   "metadata": {
    "executionInfo": {
     "elapsed": 11973,
     "status": "ok",
     "timestamp": 1647606365522,
     "user": {
      "displayName": "16_038 Niloy Banik",
      "photoUrl": "https://lh3.googleusercontent.com/a-/AOh14GgRGQZD8Tl4xOLCNeLcfxfcPprIAW7QZ1CwfRM8=s64",
      "userId": "08142048259396518017"
     },
     "user_tz": -360
    },
    "id": "ZA3eBSuZBgxN"
   },
   "outputs": [],
   "source": [
    "two=glob.glob(DATAPATH+'/1.two/*.*')\n",
    "five=glob.glob(DATAPATH+'/2.five/*.*')\n",
    "ten=glob.glob(DATAPATH+'/3.ten/*.*')\n",
    "twenty=glob.glob(DATAPATH+'/4.twenty/*.*')\n",
    "fifty=glob.glob(DATAPATH+'/5.fifty/*.*')\n",
    "one_hundred=glob.glob(DATAPATH+'/6.one_hundred/*.*')\n",
    "two_hundred=glob.glob(DATAPATH+'/7.two_hundred/*.*')\n",
    "five_hundred=glob.glob(DATAPATH+'/8.five_hundred/*.*')\n",
    "one_thousand=glob.glob(DATAPATH+'/9.one_thousand/*.*')"
   ]
  },
  {
   "cell_type": "code",
   "execution_count": 6,
   "metadata": {
    "colab": {
     "base_uri": "https://localhost:8080/"
    },
    "executionInfo": {
     "elapsed": 481,
     "status": "ok",
     "timestamp": 1647606455244,
     "user": {
      "displayName": "16_038 Niloy Banik",
      "photoUrl": "https://lh3.googleusercontent.com/a-/AOh14GgRGQZD8Tl4xOLCNeLcfxfcPprIAW7QZ1CwfRM8=s64",
      "userId": "08142048259396518017"
     },
     "user_tz": -360
    },
    "id": "i7iqKlRzBgyy",
    "outputId": "63d8e4f7-9fc3-4b81-d79e-e3167186ce23"
   },
   "outputs": [
    {
     "name": "stdout",
     "output_type": "stream",
     "text": [
      "two:  600\n",
      "five :  600\n",
      "ten:  600\n",
      "twenty:  600\n",
      "fifty:  600\n",
      "one_hundred:  600\n",
      "two_hundred:  600\n",
      "five_hundred:  600\n",
      "one_thousand:  600\n"
     ]
    }
   ],
   "source": [
    "print('two: ',len(two))\n",
    "print('five : ',len(five))\n",
    "print('ten: ',len(ten))\n",
    "print('twenty: ',len(twenty))\n",
    "print('fifty: ',len(fifty))\n",
    "print('one_hundred: ',len(one_hundred))\n",
    "print('two_hundred: ',len(two_hundred))\n",
    "print('five_hundred: ',len(five_hundred))\n",
    "print('one_thousand: ',len(one_thousand))"
   ]
  },
  {
   "cell_type": "code",
   "execution_count": 7,
   "metadata": {
    "colab": {
     "base_uri": "https://localhost:8080/"
    },
    "executionInfo": {
     "elapsed": 722,
     "status": "ok",
     "timestamp": 1647606459308,
     "user": {
      "displayName": "16_038 Niloy Banik",
      "photoUrl": "https://lh3.googleusercontent.com/a-/AOh14GgRGQZD8Tl4xOLCNeLcfxfcPprIAW7QZ1CwfRM8=s64",
      "userId": "08142048259396518017"
     },
     "user_tz": -360
    },
    "id": "m8RxH_RhBg2C",
    "outputId": "b10b6575-239e-4f6f-877e-4c6cee4d1690"
   },
   "outputs": [
    {
     "name": "stdout",
     "output_type": "stream",
     "text": [
      "Total dataset class:  9\n"
     ]
    }
   ],
   "source": [
    "dataset_classes=[two,five,ten,twenty,fifty,one_hundred,two_hundred,five_hundred,one_thousand]\n",
    "total_class=len(dataset_classes)\n",
    "print('Total dataset class: ',total_class)"
   ]
  },
  {
   "cell_type": "code",
   "execution_count": 8,
   "metadata": {
    "colab": {
     "base_uri": "https://localhost:8080/"
    },
    "executionInfo": {
     "elapsed": 476,
     "status": "ok",
     "timestamp": 1647606504161,
     "user": {
      "displayName": "16_038 Niloy Banik",
      "photoUrl": "https://lh3.googleusercontent.com/a-/AOh14GgRGQZD8Tl4xOLCNeLcfxfcPprIAW7QZ1CwfRM8=s64",
      "userId": "08142048259396518017"
     },
     "user_tz": -360
    },
    "id": "glOo8q4TBg36",
    "outputId": "9ff40c1c-cfaa-4062-f186-8e739e29f7bc"
   },
   "outputs": [
    {
     "name": "stdout",
     "output_type": "stream",
     "text": [
      "Found 4320 images belonging to 9 classes.\n",
      "Found 1080 images belonging to 9 classes.\n"
     ]
    }
   ],
   "source": [
    "IMAGE_SIZE=224\n",
    "BATCH_SIZE=64\n",
    "\n",
    "#pre_processing_training\n",
    "train_datagen = ImageDataGenerator(\n",
    "        rescale=1./255,\n",
    "        shear_range=0.2,\n",
    "        zoom_range=0.2,\n",
    "        horizontal_flip=True,\n",
    "        fill_mode='nearest',\n",
    "        validation_split=0.2)\n",
    "\n",
    "training_set = train_datagen.flow_from_directory(\n",
    "        DATAPATH,\n",
    "        shuffle=True,\n",
    "        target_size=(IMAGE_SIZE,IMAGE_SIZE),\n",
    "        batch_size=BATCH_SIZE,\n",
    "        class_mode='categorical',\n",
    "        subset='training')\n",
    "\n",
    "\n",
    "validation_set = train_datagen.flow_from_directory(\n",
    "        DATAPATH,\n",
    "         shuffle=True,\n",
    "        target_size=(IMAGE_SIZE,IMAGE_SIZE),\n",
    "        batch_size=BATCH_SIZE,\n",
    "        class_mode='categorical',\n",
    "        subset='validation')"
   ]
  },
  {
   "cell_type": "code",
   "execution_count": 9,
   "metadata": {
    "colab": {
     "base_uri": "https://localhost:8080/"
    },
    "executionInfo": {
     "elapsed": 2573,
     "status": "ok",
     "timestamp": 1647606559716,
     "user": {
      "displayName": "16_038 Niloy Banik",
      "photoUrl": "https://lh3.googleusercontent.com/a-/AOh14GgRGQZD8Tl4xOLCNeLcfxfcPprIAW7QZ1CwfRM8=s64",
      "userId": "08142048259396518017"
     },
     "user_tz": -360
    },
    "id": "fO8JyTpvBg72",
    "outputId": "51cae7d7-b89d-4a1c-adc1-88fc785ddd58"
   },
   "outputs": [
    {
     "name": "stdout",
     "output_type": "stream",
     "text": [
      "Found 575 images belonging to 9 classes.\n"
     ]
    }
   ],
   "source": [
    "test_datagen = ImageDataGenerator(rescale=1./255)\n",
    "test_set = test_datagen.flow_from_directory(\n",
    "        TESTPATH,\n",
    "         shuffle=False,\n",
    "        target_size=(IMAGE_SIZE,IMAGE_SIZE),\n",
    "        batch_size=BATCH_SIZE,\n",
    "        class_mode='categorical')"
   ]
  },
  {
   "cell_type": "code",
   "execution_count": 10,
   "metadata": {
    "colab": {
     "base_uri": "https://localhost:8080/"
    },
    "executionInfo": {
     "elapsed": 453,
     "status": "ok",
     "timestamp": 1647606563997,
     "user": {
      "displayName": "16_038 Niloy Banik",
      "photoUrl": "https://lh3.googleusercontent.com/a-/AOh14GgRGQZD8Tl4xOLCNeLcfxfcPprIAW7QZ1CwfRM8=s64",
      "userId": "08142048259396518017"
     },
     "user_tz": -360
    },
    "id": "C54XcbtJCCRN",
    "outputId": "05264bdf-1c89-41b4-ae33-6467872d53a1"
   },
   "outputs": [
    {
     "data": {
      "text/plain": [
       "{'1.two': 0,\n",
       " '2.five': 1,\n",
       " '3.ten': 2,\n",
       " '4.twenty': 3,\n",
       " '5.fifty': 4,\n",
       " '6.one_hundred': 5,\n",
       " '7.two_hundred': 6,\n",
       " '8.five_hundred': 7,\n",
       " '9.one_thousand': 8}"
      ]
     },
     "execution_count": 10,
     "metadata": {},
     "output_type": "execute_result"
    }
   ],
   "source": [
    "training_set.class_indices"
   ]
  },
  {
   "cell_type": "code",
   "execution_count": 11,
   "metadata": {
    "colab": {
     "base_uri": "https://localhost:8080/"
    },
    "executionInfo": {
     "elapsed": 6,
     "status": "ok",
     "timestamp": 1647606567125,
     "user": {
      "displayName": "16_038 Niloy Banik",
      "photoUrl": "https://lh3.googleusercontent.com/a-/AOh14GgRGQZD8Tl4xOLCNeLcfxfcPprIAW7QZ1CwfRM8=s64",
      "userId": "08142048259396518017"
     },
     "user_tz": -360
    },
    "id": "8jiQVccgCCSs",
    "outputId": "b8dcf844-9803-429c-c0fd-12fe7a3fb309"
   },
   "outputs": [
    {
     "name": "stdout",
     "output_type": "stream",
     "text": [
      "Number of classes in dataset:  9\n"
     ]
    }
   ],
   "source": [
    "total_class=len(training_set.class_indices)\n",
    "print('Number of classes in dataset: ',total_class)"
   ]
  },
  {
   "cell_type": "code",
   "execution_count": 13,
   "metadata": {
    "executionInfo": {
     "elapsed": 641,
     "status": "ok",
     "timestamp": 1647606757815,
     "user": {
      "displayName": "16_038 Niloy Banik",
      "photoUrl": "https://lh3.googleusercontent.com/a-/AOh14GgRGQZD8Tl4xOLCNeLcfxfcPprIAW7QZ1CwfRM8=s64",
      "userId": "08142048259396518017"
     },
     "user_tz": -360
    },
    "id": "dTRV_mmtCCWN"
   },
   "outputs": [],
   "source": [
    "from tensorflow.keras.models import Sequential \n",
    "from tensorflow.keras.optimizers import Adam\n",
    "from tensorflow.keras.layers import Activation, Dense, Flatten "
   ]
  },
  {
   "cell_type": "code",
   "execution_count": null,
   "metadata": {
    "colab": {
     "base_uri": "https://localhost:8080/"
    },
    "executionInfo": {
     "elapsed": 4202,
     "status": "ok",
     "timestamp": 1647606891495,
     "user": {
      "displayName": "16_038 Niloy Banik",
      "photoUrl": "https://lh3.googleusercontent.com/a-/AOh14GgRGQZD8Tl4xOLCNeLcfxfcPprIAW7QZ1CwfRM8=s64",
      "userId": "08142048259396518017"
     },
     "user_tz": -360
    },
    "id": "2tstjOS5CCX5",
    "outputId": "814802bd-7de9-4ef2-a6b2-c3e5bf37e64d"
   },
   "outputs": [],
   "source": [
    "vgg16_model = Sequential()\n",
    "\n",
    "pretrained_model= tf.keras.applications.VGG16(include_top=False,\n",
    "                   input_shape=(224,224,3),\n",
    "                   pooling='max',classes=9,\n",
    "                   weights='imagenet')\n",
    "for layer in pretrained_model.layers:\n",
    "        layer.trainable=False\n",
    "\n",
    "vgg16_model.add(pretrained_model)"
   ]
  },
  {
   "cell_type": "code",
   "execution_count": 17,
   "metadata": {
    "executionInfo": {
     "elapsed": 457,
     "status": "ok",
     "timestamp": 1647606945642,
     "user": {
      "displayName": "16_038 Niloy Banik",
      "photoUrl": "https://lh3.googleusercontent.com/a-/AOh14GgRGQZD8Tl4xOLCNeLcfxfcPprIAW7QZ1CwfRM8=s64",
      "userId": "08142048259396518017"
     },
     "user_tz": -360
    },
    "id": "RNSBpF2rCCat"
   },
   "outputs": [],
   "source": [
    "vgg16_model.add(Flatten())\n",
    "vgg16_model.add(Dense(512, activation='relu'))\n",
    "vgg16_model.add(Dense(9, activation='softmax'))"
   ]
  },
  {
   "cell_type": "code",
   "execution_count": 18,
   "metadata": {
    "colab": {
     "base_uri": "https://localhost:8080/"
    },
    "executionInfo": {
     "elapsed": 461,
     "status": "ok",
     "timestamp": 1647606951468,
     "user": {
      "displayName": "16_038 Niloy Banik",
      "photoUrl": "https://lh3.googleusercontent.com/a-/AOh14GgRGQZD8Tl4xOLCNeLcfxfcPprIAW7QZ1CwfRM8=s64",
      "userId": "08142048259396518017"
     },
     "user_tz": -360
    },
    "id": "AzYGCjD_CCcR",
    "outputId": "8305b57a-47f1-44ec-c229-d01644688d37"
   },
   "outputs": [
    {
     "name": "stdout",
     "output_type": "stream",
     "text": [
      "Model: \"sequential\"\n",
      "_________________________________________________________________\n",
      " Layer (type)                Output Shape              Param #   \n",
      "=================================================================\n",
      " vgg16 (Functional)          (None, 512)               14714688  \n",
      "                                                                 \n",
      " flatten (Flatten)           (None, 512)               0         \n",
      "                                                                 \n",
      " dense (Dense)               (None, 512)               262656    \n",
      "                                                                 \n",
      " dense_1 (Dense)             (None, 9)                 4617      \n",
      "                                                                 \n",
      "=================================================================\n",
      "Total params: 14,981,961\n",
      "Trainable params: 267,273\n",
      "Non-trainable params: 14,714,688\n",
      "_________________________________________________________________\n"
     ]
    }
   ],
   "source": [
    "vgg16_model.summary()"
   ]
  },
  {
   "cell_type": "code",
   "execution_count": 19,
   "metadata": {
    "executionInfo": {
     "elapsed": 530,
     "status": "ok",
     "timestamp": 1647606980259,
     "user": {
      "displayName": "16_038 Niloy Banik",
      "photoUrl": "https://lh3.googleusercontent.com/a-/AOh14GgRGQZD8Tl4xOLCNeLcfxfcPprIAW7QZ1CwfRM8=s64",
      "userId": "08142048259396518017"
     },
     "user_tz": -360
    },
    "id": "Z6cYiRrsCCf9"
   },
   "outputs": [],
   "source": [
    "vgg16_model.compile(optimizer='adam',loss='categorical_crossentropy',metrics=['accuracy'])"
   ]
  },
  {
   "cell_type": "code",
   "execution_count": 21,
   "metadata": {
    "executionInfo": {
     "elapsed": 472,
     "status": "ok",
     "timestamp": 1647607010042,
     "user": {
      "displayName": "16_038 Niloy Banik",
      "photoUrl": "https://lh3.googleusercontent.com/a-/AOh14GgRGQZD8Tl4xOLCNeLcfxfcPprIAW7QZ1CwfRM8=s64",
      "userId": "08142048259396518017"
     },
     "user_tz": -360
    },
    "id": "rK3EB7KJB3Wn"
   },
   "outputs": [],
   "source": [
    "from tensorflow.keras.callbacks import ModelCheckpoint\n",
    "checkpointer = ModelCheckpoint(filepath=MODEL_PATH+'VGG16_Pretrained.model.best.hdf5', verbose=1 ,save_best_only=True)"
   ]
  },
  {
   "cell_type": "code",
   "execution_count": 22,
   "metadata": {
    "colab": {
     "base_uri": "https://localhost:8080/"
    },
    "executionInfo": {
     "elapsed": 6301765,
     "status": "ok",
     "timestamp": 1647613338273,
     "user": {
      "displayName": "16_038 Niloy Banik",
      "photoUrl": "https://lh3.googleusercontent.com/a-/AOh14GgRGQZD8Tl4xOLCNeLcfxfcPprIAW7QZ1CwfRM8=s64",
      "userId": "08142048259396518017"
     },
     "user_tz": -360
    },
    "id": "x4oZCpyAB3bx",
    "outputId": "e33963f3-213c-4b96-835a-ef643a90f0df"
   },
   "outputs": [
    {
     "name": "stdout",
     "output_type": "stream",
     "text": [
      "Epoch 1/50\n",
      "68/68 [==============================] - ETA: 0s - loss: 1.5200 - accuracy: 0.5572 \n",
      "Epoch 1: val_loss improved from inf to 1.11509, saving model to /content/drive/MyDrive/Thesis/modelVGG16_Pretrained.model.best.hdf5\n",
      "68/68 [==============================] - 1277s 19s/step - loss: 1.5200 - accuracy: 0.5572 - val_loss: 1.1151 - val_accuracy: 0.6778\n",
      "Epoch 2/50\n",
      "68/68 [==============================] - ETA: 0s - loss: 0.8187 - accuracy: 0.8065\n",
      "Epoch 2: val_loss improved from 1.11509 to 0.71693, saving model to /content/drive/MyDrive/Thesis/modelVGG16_Pretrained.model.best.hdf5\n",
      "68/68 [==============================] - 95s 1s/step - loss: 0.8187 - accuracy: 0.8065 - val_loss: 0.7169 - val_accuracy: 0.8417\n",
      "Epoch 3/50\n",
      "68/68 [==============================] - ETA: 0s - loss: 0.4901 - accuracy: 0.9132\n",
      "Epoch 3: val_loss improved from 0.71693 to 0.47248, saving model to /content/drive/MyDrive/Thesis/modelVGG16_Pretrained.model.best.hdf5\n",
      "68/68 [==============================] - 96s 1s/step - loss: 0.4901 - accuracy: 0.9132 - val_loss: 0.4725 - val_accuracy: 0.9204\n",
      "Epoch 4/50\n",
      "68/68 [==============================] - ETA: 0s - loss: 0.3069 - accuracy: 0.9565\n",
      "Epoch 4: val_loss improved from 0.47248 to 0.36171, saving model to /content/drive/MyDrive/Thesis/modelVGG16_Pretrained.model.best.hdf5\n",
      "68/68 [==============================] - 96s 1s/step - loss: 0.3069 - accuracy: 0.9565 - val_loss: 0.3617 - val_accuracy: 0.9352\n",
      "Epoch 5/50\n",
      "68/68 [==============================] - ETA: 0s - loss: 0.1996 - accuracy: 0.9815\n",
      "Epoch 5: val_loss improved from 0.36171 to 0.27106, saving model to /content/drive/MyDrive/Thesis/modelVGG16_Pretrained.model.best.hdf5\n",
      "68/68 [==============================] - 96s 1s/step - loss: 0.1996 - accuracy: 0.9815 - val_loss: 0.2711 - val_accuracy: 0.9500\n",
      "Epoch 6/50\n",
      "68/68 [==============================] - ETA: 0s - loss: 0.1396 - accuracy: 0.9884\n",
      "Epoch 6: val_loss improved from 0.27106 to 0.19922, saving model to /content/drive/MyDrive/Thesis/modelVGG16_Pretrained.model.best.hdf5\n",
      "68/68 [==============================] - 97s 1s/step - loss: 0.1396 - accuracy: 0.9884 - val_loss: 0.1992 - val_accuracy: 0.9694\n",
      "Epoch 7/50\n",
      "68/68 [==============================] - ETA: 0s - loss: 0.1030 - accuracy: 0.9912\n",
      "Epoch 7: val_loss did not improve from 0.19922\n",
      "68/68 [==============================] - 95s 1s/step - loss: 0.1030 - accuracy: 0.9912 - val_loss: 0.2023 - val_accuracy: 0.9546\n",
      "Epoch 8/50\n",
      "68/68 [==============================] - ETA: 0s - loss: 0.0834 - accuracy: 0.9937\n",
      "Epoch 8: val_loss improved from 0.19922 to 0.14342, saving model to /content/drive/MyDrive/Thesis/modelVGG16_Pretrained.model.best.hdf5\n",
      "68/68 [==============================] - 96s 1s/step - loss: 0.0834 - accuracy: 0.9937 - val_loss: 0.1434 - val_accuracy: 0.9741\n",
      "Epoch 9/50\n",
      "68/68 [==============================] - ETA: 0s - loss: 0.0627 - accuracy: 0.9958\n",
      "Epoch 9: val_loss improved from 0.14342 to 0.13021, saving model to /content/drive/MyDrive/Thesis/modelVGG16_Pretrained.model.best.hdf5\n",
      "68/68 [==============================] - 94s 1s/step - loss: 0.0627 - accuracy: 0.9958 - val_loss: 0.1302 - val_accuracy: 0.9722\n",
      "Epoch 10/50\n",
      "68/68 [==============================] - ETA: 0s - loss: 0.0520 - accuracy: 0.9977\n",
      "Epoch 10: val_loss improved from 0.13021 to 0.11778, saving model to /content/drive/MyDrive/Thesis/modelVGG16_Pretrained.model.best.hdf5\n",
      "68/68 [==============================] - 89s 1s/step - loss: 0.0520 - accuracy: 0.9977 - val_loss: 0.1178 - val_accuracy: 0.9722\n",
      "Epoch 11/50\n",
      "68/68 [==============================] - ETA: 0s - loss: 0.0472 - accuracy: 0.9965\n",
      "Epoch 11: val_loss improved from 0.11778 to 0.10183, saving model to /content/drive/MyDrive/Thesis/modelVGG16_Pretrained.model.best.hdf5\n",
      "68/68 [==============================] - 92s 1s/step - loss: 0.0472 - accuracy: 0.9965 - val_loss: 0.1018 - val_accuracy: 0.9787\n",
      "Epoch 12/50\n",
      "68/68 [==============================] - ETA: 0s - loss: 0.0368 - accuracy: 0.9968\n",
      "Epoch 12: val_loss improved from 0.10183 to 0.08702, saving model to /content/drive/MyDrive/Thesis/modelVGG16_Pretrained.model.best.hdf5\n",
      "68/68 [==============================] - 92s 1s/step - loss: 0.0368 - accuracy: 0.9968 - val_loss: 0.0870 - val_accuracy: 0.9824\n",
      "Epoch 13/50\n",
      "68/68 [==============================] - ETA: 0s - loss: 0.0312 - accuracy: 0.9986\n",
      "Epoch 13: val_loss did not improve from 0.08702\n",
      "68/68 [==============================] - 95s 1s/step - loss: 0.0312 - accuracy: 0.9986 - val_loss: 0.0903 - val_accuracy: 0.9806\n",
      "Epoch 14/50\n",
      "68/68 [==============================] - ETA: 0s - loss: 0.0294 - accuracy: 0.9975\n",
      "Epoch 14: val_loss did not improve from 0.08702\n",
      "68/68 [==============================] - 94s 1s/step - loss: 0.0294 - accuracy: 0.9975 - val_loss: 0.0885 - val_accuracy: 0.9750\n",
      "Epoch 15/50\n",
      "68/68 [==============================] - ETA: 0s - loss: 0.0253 - accuracy: 0.9984\n",
      "Epoch 15: val_loss improved from 0.08702 to 0.07325, saving model to /content/drive/MyDrive/Thesis/modelVGG16_Pretrained.model.best.hdf5\n",
      "68/68 [==============================] - 91s 1s/step - loss: 0.0253 - accuracy: 0.9984 - val_loss: 0.0732 - val_accuracy: 0.9861\n",
      "Epoch 16/50\n",
      "68/68 [==============================] - ETA: 0s - loss: 0.0202 - accuracy: 0.9988\n",
      "Epoch 16: val_loss did not improve from 0.07325\n",
      "68/68 [==============================] - 90s 1s/step - loss: 0.0202 - accuracy: 0.9988 - val_loss: 0.0803 - val_accuracy: 0.9759\n",
      "Epoch 17/50\n",
      "68/68 [==============================] - ETA: 0s - loss: 0.0197 - accuracy: 0.9988\n",
      "Epoch 17: val_loss improved from 0.07325 to 0.07194, saving model to /content/drive/MyDrive/Thesis/modelVGG16_Pretrained.model.best.hdf5\n",
      "68/68 [==============================] - 89s 1s/step - loss: 0.0197 - accuracy: 0.9988 - val_loss: 0.0719 - val_accuracy: 0.9787\n",
      "Epoch 18/50\n",
      "68/68 [==============================] - ETA: 0s - loss: 0.0166 - accuracy: 0.9991\n",
      "Epoch 18: val_loss improved from 0.07194 to 0.04837, saving model to /content/drive/MyDrive/Thesis/modelVGG16_Pretrained.model.best.hdf5\n",
      "68/68 [==============================] - 90s 1s/step - loss: 0.0166 - accuracy: 0.9991 - val_loss: 0.0484 - val_accuracy: 0.9926\n",
      "Epoch 19/50\n",
      "68/68 [==============================] - ETA: 0s - loss: 0.0154 - accuracy: 0.9991\n",
      "Epoch 19: val_loss did not improve from 0.04837\n",
      "68/68 [==============================] - 88s 1s/step - loss: 0.0154 - accuracy: 0.9991 - val_loss: 0.0551 - val_accuracy: 0.9898\n",
      "Epoch 20/50\n",
      "68/68 [==============================] - ETA: 0s - loss: 0.0146 - accuracy: 0.9986\n",
      "Epoch 20: val_loss did not improve from 0.04837\n",
      "68/68 [==============================] - 89s 1s/step - loss: 0.0146 - accuracy: 0.9986 - val_loss: 0.0804 - val_accuracy: 0.9750\n",
      "Epoch 21/50\n",
      "68/68 [==============================] - ETA: 0s - loss: 0.0136 - accuracy: 0.9993\n",
      "Epoch 21: val_loss did not improve from 0.04837\n",
      "68/68 [==============================] - 88s 1s/step - loss: 0.0136 - accuracy: 0.9993 - val_loss: 0.0564 - val_accuracy: 0.9870\n",
      "Epoch 22/50\n",
      "68/68 [==============================] - ETA: 0s - loss: 0.0113 - accuracy: 0.9995\n",
      "Epoch 22: val_loss did not improve from 0.04837\n",
      "68/68 [==============================] - 88s 1s/step - loss: 0.0113 - accuracy: 0.9995 - val_loss: 0.0525 - val_accuracy: 0.9889\n",
      "Epoch 23/50\n",
      "68/68 [==============================] - ETA: 0s - loss: 0.0106 - accuracy: 1.0000\n",
      "Epoch 23: val_loss improved from 0.04837 to 0.04822, saving model to /content/drive/MyDrive/Thesis/modelVGG16_Pretrained.model.best.hdf5\n",
      "68/68 [==============================] - 91s 1s/step - loss: 0.0106 - accuracy: 1.0000 - val_loss: 0.0482 - val_accuracy: 0.9898\n",
      "Epoch 24/50\n",
      "68/68 [==============================] - ETA: 0s - loss: 0.0106 - accuracy: 0.9998\n",
      "Epoch 24: val_loss improved from 0.04822 to 0.04717, saving model to /content/drive/MyDrive/Thesis/modelVGG16_Pretrained.model.best.hdf5\n",
      "68/68 [==============================] - 93s 1s/step - loss: 0.0106 - accuracy: 0.9998 - val_loss: 0.0472 - val_accuracy: 0.9889\n",
      "Epoch 25/50\n",
      "68/68 [==============================] - ETA: 0s - loss: 0.0092 - accuracy: 0.9991\n",
      "Epoch 25: val_loss did not improve from 0.04717\n",
      "68/68 [==============================] - 91s 1s/step - loss: 0.0092 - accuracy: 0.9991 - val_loss: 0.0476 - val_accuracy: 0.9852\n",
      "Epoch 26/50\n",
      "68/68 [==============================] - ETA: 0s - loss: 0.0099 - accuracy: 0.9991\n",
      "Epoch 26: val_loss improved from 0.04717 to 0.03778, saving model to /content/drive/MyDrive/Thesis/modelVGG16_Pretrained.model.best.hdf5\n",
      "68/68 [==============================] - 90s 1s/step - loss: 0.0099 - accuracy: 0.9991 - val_loss: 0.0378 - val_accuracy: 0.9917\n",
      "Epoch 27/50\n",
      "68/68 [==============================] - ETA: 0s - loss: 0.0073 - accuracy: 0.9998\n",
      "Epoch 27: val_loss did not improve from 0.03778\n",
      "68/68 [==============================] - 89s 1s/step - loss: 0.0073 - accuracy: 0.9998 - val_loss: 0.0541 - val_accuracy: 0.9880\n",
      "Epoch 28/50\n",
      "68/68 [==============================] - ETA: 0s - loss: 0.0060 - accuracy: 1.0000\n",
      "Epoch 28: val_loss did not improve from 0.03778\n",
      "68/68 [==============================] - 94s 1s/step - loss: 0.0060 - accuracy: 1.0000 - val_loss: 0.0495 - val_accuracy: 0.9852\n",
      "Epoch 29/50\n",
      "68/68 [==============================] - ETA: 0s - loss: 0.0072 - accuracy: 0.9993\n",
      "Epoch 29: val_loss did not improve from 0.03778\n",
      "68/68 [==============================] - 94s 1s/step - loss: 0.0072 - accuracy: 0.9993 - val_loss: 0.0520 - val_accuracy: 0.9843\n",
      "Epoch 30/50\n",
      "68/68 [==============================] - ETA: 0s - loss: 0.0066 - accuracy: 0.9998\n",
      "Epoch 30: val_loss did not improve from 0.03778\n",
      "68/68 [==============================] - 96s 1s/step - loss: 0.0066 - accuracy: 0.9998 - val_loss: 0.0381 - val_accuracy: 0.9907\n",
      "Epoch 31/50\n",
      "68/68 [==============================] - ETA: 0s - loss: 0.0056 - accuracy: 1.0000\n",
      "Epoch 31: val_loss did not improve from 0.03778\n",
      "68/68 [==============================] - 87s 1s/step - loss: 0.0056 - accuracy: 1.0000 - val_loss: 0.0378 - val_accuracy: 0.9870\n",
      "Epoch 32/50\n",
      "68/68 [==============================] - ETA: 0s - loss: 0.0065 - accuracy: 0.9993\n",
      "Epoch 32: val_loss did not improve from 0.03778\n",
      "68/68 [==============================] - 89s 1s/step - loss: 0.0065 - accuracy: 0.9993 - val_loss: 0.0587 - val_accuracy: 0.9806\n",
      "Epoch 33/50\n",
      "68/68 [==============================] - ETA: 0s - loss: 0.0059 - accuracy: 0.9998\n",
      "Epoch 33: val_loss improved from 0.03778 to 0.03746, saving model to /content/drive/MyDrive/Thesis/modelVGG16_Pretrained.model.best.hdf5\n",
      "68/68 [==============================] - 89s 1s/step - loss: 0.0059 - accuracy: 0.9998 - val_loss: 0.0375 - val_accuracy: 0.9870\n",
      "Epoch 34/50\n",
      "68/68 [==============================] - ETA: 0s - loss: 0.0060 - accuracy: 1.0000\n",
      "Epoch 34: val_loss did not improve from 0.03746\n",
      "68/68 [==============================] - 89s 1s/step - loss: 0.0060 - accuracy: 1.0000 - val_loss: 0.0579 - val_accuracy: 0.9806\n",
      "Epoch 35/50\n",
      "68/68 [==============================] - ETA: 0s - loss: 0.0041 - accuracy: 1.0000\n",
      "Epoch 35: val_loss did not improve from 0.03746\n",
      "68/68 [==============================] - 88s 1s/step - loss: 0.0041 - accuracy: 1.0000 - val_loss: 0.0405 - val_accuracy: 0.9861\n",
      "Epoch 36/50\n",
      "68/68 [==============================] - ETA: 0s - loss: 0.0053 - accuracy: 0.9998\n",
      "Epoch 36: val_loss improved from 0.03746 to 0.03467, saving model to /content/drive/MyDrive/Thesis/modelVGG16_Pretrained.model.best.hdf5\n",
      "68/68 [==============================] - 90s 1s/step - loss: 0.0053 - accuracy: 0.9998 - val_loss: 0.0347 - val_accuracy: 0.9898\n",
      "Epoch 37/50\n",
      "68/68 [==============================] - ETA: 0s - loss: 0.0033 - accuracy: 1.0000\n",
      "Epoch 37: val_loss did not improve from 0.03467\n",
      "68/68 [==============================] - 90s 1s/step - loss: 0.0033 - accuracy: 1.0000 - val_loss: 0.0481 - val_accuracy: 0.9870\n",
      "Epoch 38/50\n",
      "68/68 [==============================] - ETA: 0s - loss: 0.0048 - accuracy: 0.9995\n",
      "Epoch 38: val_loss improved from 0.03467 to 0.03310, saving model to /content/drive/MyDrive/Thesis/modelVGG16_Pretrained.model.best.hdf5\n",
      "68/68 [==============================] - 92s 1s/step - loss: 0.0048 - accuracy: 0.9995 - val_loss: 0.0331 - val_accuracy: 0.9898\n",
      "Epoch 39/50\n",
      "68/68 [==============================] - ETA: 0s - loss: 0.0039 - accuracy: 0.9995\n",
      "Epoch 39: val_loss improved from 0.03310 to 0.03070, saving model to /content/drive/MyDrive/Thesis/modelVGG16_Pretrained.model.best.hdf5\n",
      "68/68 [==============================] - 92s 1s/step - loss: 0.0039 - accuracy: 0.9995 - val_loss: 0.0307 - val_accuracy: 0.9935\n",
      "Epoch 40/50\n",
      "68/68 [==============================] - ETA: 0s - loss: 0.0040 - accuracy: 0.9998\n",
      "Epoch 40: val_loss did not improve from 0.03070\n",
      "68/68 [==============================] - 90s 1s/step - loss: 0.0040 - accuracy: 0.9998 - val_loss: 0.0328 - val_accuracy: 0.9917\n",
      "Epoch 41/50\n",
      "68/68 [==============================] - ETA: 0s - loss: 0.0030 - accuracy: 1.0000\n",
      "Epoch 41: val_loss did not improve from 0.03070\n",
      "68/68 [==============================] - 90s 1s/step - loss: 0.0030 - accuracy: 1.0000 - val_loss: 0.0309 - val_accuracy: 0.9926\n",
      "Epoch 42/50\n",
      "68/68 [==============================] - ETA: 0s - loss: 0.0026 - accuracy: 1.0000\n",
      "Epoch 42: val_loss did not improve from 0.03070\n",
      "68/68 [==============================] - 89s 1s/step - loss: 0.0026 - accuracy: 1.0000 - val_loss: 0.0378 - val_accuracy: 0.9907\n",
      "Epoch 43/50\n",
      "68/68 [==============================] - ETA: 0s - loss: 0.0034 - accuracy: 0.9998\n",
      "Epoch 43: val_loss did not improve from 0.03070\n",
      "68/68 [==============================] - 88s 1s/step - loss: 0.0034 - accuracy: 0.9998 - val_loss: 0.0315 - val_accuracy: 0.9926\n",
      "Epoch 44/50\n",
      "68/68 [==============================] - ETA: 0s - loss: 0.0034 - accuracy: 1.0000\n",
      "Epoch 44: val_loss did not improve from 0.03070\n",
      "68/68 [==============================] - 89s 1s/step - loss: 0.0034 - accuracy: 1.0000 - val_loss: 0.0472 - val_accuracy: 0.9861\n",
      "Epoch 45/50\n",
      "68/68 [==============================] - ETA: 0s - loss: 0.0022 - accuracy: 1.0000\n",
      "Epoch 45: val_loss improved from 0.03070 to 0.02798, saving model to /content/drive/MyDrive/Thesis/modelVGG16_Pretrained.model.best.hdf5\n",
      "68/68 [==============================] - 89s 1s/step - loss: 0.0022 - accuracy: 1.0000 - val_loss: 0.0280 - val_accuracy: 0.9907\n",
      "Epoch 46/50\n",
      "68/68 [==============================] - ETA: 0s - loss: 0.0025 - accuracy: 0.9998\n",
      "Epoch 46: val_loss did not improve from 0.02798\n",
      "68/68 [==============================] - 88s 1s/step - loss: 0.0025 - accuracy: 0.9998 - val_loss: 0.0365 - val_accuracy: 0.9898\n",
      "Epoch 47/50\n",
      "68/68 [==============================] - ETA: 0s - loss: 0.0035 - accuracy: 0.9995\n",
      "Epoch 47: val_loss did not improve from 0.02798\n",
      "68/68 [==============================] - 88s 1s/step - loss: 0.0035 - accuracy: 0.9995 - val_loss: 0.0413 - val_accuracy: 0.9898\n",
      "Epoch 48/50\n",
      "68/68 [==============================] - ETA: 0s - loss: 0.0024 - accuracy: 1.0000\n",
      "Epoch 48: val_loss did not improve from 0.02798\n",
      "68/68 [==============================] - 87s 1s/step - loss: 0.0024 - accuracy: 1.0000 - val_loss: 0.0410 - val_accuracy: 0.9880\n",
      "Epoch 49/50\n",
      "68/68 [==============================] - ETA: 0s - loss: 0.0025 - accuracy: 1.0000\n",
      "Epoch 49: val_loss improved from 0.02798 to 0.02350, saving model to /content/drive/MyDrive/Thesis/modelVGG16_Pretrained.model.best.hdf5\n",
      "68/68 [==============================] - 89s 1s/step - loss: 0.0025 - accuracy: 1.0000 - val_loss: 0.0235 - val_accuracy: 0.9944\n",
      "Epoch 50/50\n",
      "68/68 [==============================] - ETA: 0s - loss: 0.0024 - accuracy: 1.0000\n",
      "Epoch 50: val_loss did not improve from 0.02350\n",
      "68/68 [==============================] - 89s 1s/step - loss: 0.0024 - accuracy: 1.0000 - val_loss: 0.0357 - val_accuracy: 0.9898\n"
     ]
    }
   ],
   "source": [
    "history=vgg16_model.fit(training_set,\n",
    "                epochs=50,\n",
    "                validation_data=validation_set,\n",
    "                callbacks=[checkpointer])"
   ]
  },
  {
   "cell_type": "code",
   "execution_count": 23,
   "metadata": {
    "colab": {
     "base_uri": "https://localhost:8080/",
     "height": 295
    },
    "executionInfo": {
     "elapsed": 637,
     "status": "ok",
     "timestamp": 1647614368065,
     "user": {
      "displayName": "16_038 Niloy Banik",
      "photoUrl": "https://lh3.googleusercontent.com/a-/AOh14GgRGQZD8Tl4xOLCNeLcfxfcPprIAW7QZ1CwfRM8=s64",
      "userId": "08142048259396518017"
     },
     "user_tz": -360
    },
    "id": "dG7hyTwrB3ib",
    "outputId": "95156fd9-3fde-4160-fb5e-a8ab7561831c"
   },
   "outputs": [
    {
     "data": {
      "image/png": "[encoded data removed]",
      "text/plain": [
       "<Figure size 432x288 with 1 Axes>"
      ]
     },
     "metadata": {
      "needs_background": "light"
     },
     "output_type": "display_data"
    }
   ],
   "source": [
    "plt.xlabel('epochs')\n",
    "plt.ylabel('accuracy')\n",
    "plt.title('Training accuracy graph')\n",
    "plt.plot(history.history['accuracy'],label='accuracy')\n",
    "plt.plot(history.history['val_accuracy'],label='val_accuracy')\n",
    "plt.legend()\n",
    "plt.show()"
   ]
  },
  {
   "cell_type": "code",
   "execution_count": 24,
   "metadata": {
    "colab": {
     "base_uri": "https://localhost:8080/",
     "height": 295
    },
    "executionInfo": {
     "elapsed": 607,
     "status": "ok",
     "timestamp": 1647614374530,
     "user": {
      "displayName": "16_038 Niloy Banik",
      "photoUrl": "https://lh3.googleusercontent.com/a-/AOh14GgRGQZD8Tl4xOLCNeLcfxfcPprIAW7QZ1CwfRM8=s64",
      "userId": "08142048259396518017"
     },
     "user_tz": -360
    },
    "id": "D-mIUs5QB3sk",
    "outputId": "bd8dfa69-5612-4389-eb4e-4747ccb593e7"
   },
   "outputs": [
    {
     "data": {
      "image/png": "[encoded data removed]",
      "text/plain": [
       "<Figure size 432x288 with 1 Axes>"
      ]
     },
     "metadata": {
      "needs_background": "light"
     },
     "output_type": "display_data"
    }
   ],
   "source": [
    "plt.xlabel('epochs')\n",
    "plt.ylabel('loss')\n",
    "plt.title('Loss training graph')\n",
    "plt.plot(history.history['loss'],label='loss')\n",
    "plt.plot(history.history['val_loss'],label='val_loss')\n",
    "plt.legend()\n",
    "plt.show()"
   ]
  },
  {
   "cell_type": "code",
   "execution_count": 25,
   "metadata": {
    "colab": {
     "base_uri": "https://localhost:8080/"
    },
    "executionInfo": {
     "elapsed": 145869,
     "status": "ok",
     "timestamp": 1647614525240,
     "user": {
      "displayName": "16_038 Niloy Banik",
      "photoUrl": "https://lh3.googleusercontent.com/a-/AOh14GgRGQZD8Tl4xOLCNeLcfxfcPprIAW7QZ1CwfRM8=s64",
      "userId": "08142048259396518017"
     },
     "user_tz": -360
    },
    "id": "LuIs_KqfCZ0f",
    "outputId": "22e44526-47cb-4bcb-b779-f072a5b78d68"
   },
   "outputs": [
    {
     "name": "stdout",
     "output_type": "stream",
     "text": [
      "9/9 [==============================] - 124s 15s/step - loss: 0.0314 - accuracy: 0.9896\n",
      "Test Loss:  0.031404197216033936\n",
      "Test Accuracy:  0.9895651936531067\n"
     ]
    }
   ],
   "source": [
    "test_loss,test_accuracy=vgg16_model.evaluate(test_set)\n",
    "print('Test Loss: ',test_loss)\n",
    "print('Test Accuracy: ',test_accuracy)"
   ]
  },
  {
   "cell_type": "code",
   "execution_count": 26,
   "metadata": {
    "colab": {
     "base_uri": "https://localhost:8080/"
    },
    "executionInfo": {
     "elapsed": 6,
     "status": "ok",
     "timestamp": 1647614631174,
     "user": {
      "displayName": "16_038 Niloy Banik",
      "photoUrl": "https://lh3.googleusercontent.com/a-/AOh14GgRGQZD8Tl4xOLCNeLcfxfcPprIAW7QZ1CwfRM8=s64",
      "userId": "08142048259396518017"
     },
     "user_tz": -360
    },
    "id": "meTkJqZ1CZ24",
    "outputId": "ca6a1a2e-f91d-4b85-f4b7-0e12891de12e"
   },
   "outputs": [
    {
     "name": "stdout",
     "output_type": "stream",
     "text": [
      "Accuracy of the model is :  98.95651936531067\n"
     ]
    }
   ],
   "source": [
    "print('Accuracy of the model is : ',test_accuracy*100)"
   ]
  },
  {
   "cell_type": "code",
   "execution_count": 28,
   "metadata": {
    "colab": {
     "base_uri": "https://localhost:8080/"
    },
    "executionInfo": {
     "elapsed": 5482,
     "status": "ok",
     "timestamp": 1647614709578,
     "user": {
      "displayName": "16_038 Niloy Banik",
      "photoUrl": "https://lh3.googleusercontent.com/a-/AOh14GgRGQZD8Tl4xOLCNeLcfxfcPprIAW7QZ1CwfRM8=s64",
      "userId": "08142048259396518017"
     },
     "user_tz": -360
    },
    "id": "BTCE5d55CZ6y",
    "outputId": "fae0edd2-2d7f-494b-8133-c11432789bba"
   },
   "outputs": [
    {
     "data": {
      "text/plain": [
       "array([[9.9983716e-01, 3.0196509e-07, 2.1893918e-08, 1.5272849e-04,\n",
       "        5.2386513e-06, 6.0653032e-12, 1.7326361e-11, 4.3815676e-06,\n",
       "        1.3402744e-08],\n",
       "       [9.9937636e-01, 7.8630563e-08, 8.8419362e-08, 6.0692074e-04,\n",
       "        7.9154142e-06, 1.3025511e-10, 2.2080471e-11, 8.6823866e-06,\n",
       "        1.0323610e-08],\n",
       "       [9.9902296e-01, 1.1742555e-07, 1.5648313e-07, 9.4908662e-04,\n",
       "        1.2496631e-05, 2.7183278e-10, 4.4056862e-11, 1.5124314e-05,\n",
       "        1.4392184e-08],\n",
       "       [9.9892515e-01, 1.2935912e-07, 1.9550252e-07, 1.0329591e-03,\n",
       "        1.6390948e-05, 3.8063724e-10, 6.8244500e-11, 2.5212428e-05,\n",
       "        1.9665281e-08],\n",
       "       [9.9950004e-01, 3.0460142e-04, 6.3647026e-06, 7.5161392e-05,\n",
       "        1.3441669e-05, 1.1085497e-06, 3.0370609e-07, 7.4973541e-05,\n",
       "        2.4017778e-05]], dtype=float32)"
      ]
     },
     "execution_count": 28,
     "metadata": {},
     "output_type": "execute_result"
    }
   ],
   "source": [
    "predicted_result=vgg16_model.predict(test_set)\n",
    "predicted_result[:5]"
   ]
  },
  {
   "cell_type": "code",
   "execution_count": 29,
   "metadata": {
    "colab": {
     "base_uri": "https://localhost:8080/"
    },
    "executionInfo": {
     "elapsed": 464,
     "status": "ok",
     "timestamp": 1647614725837,
     "user": {
      "displayName": "16_038 Niloy Banik",
      "photoUrl": "https://lh3.googleusercontent.com/a-/AOh14GgRGQZD8Tl4xOLCNeLcfxfcPprIAW7QZ1CwfRM8=s64",
      "userId": "08142048259396518017"
     },
     "user_tz": -360
    },
    "id": "DeP0Se-NCZ_Q",
    "outputId": "e332ae95-de2e-4568-a8ac-cf6875503826"
   },
   "outputs": [
    {
     "data": {
      "text/plain": [
       "array([0, 0, 0, 0, 0])"
      ]
     },
     "execution_count": 29,
     "metadata": {},
     "output_type": "execute_result"
    }
   ],
   "source": [
    "predicted_class=np.argmax(predicted_result,axis=-1)\n",
    "predicted_class[:5]"
   ]
  },
  {
   "cell_type": "code",
   "execution_count": 30,
   "metadata": {
    "colab": {
     "base_uri": "https://localhost:8080/"
    },
    "executionInfo": {
     "elapsed": 509,
     "status": "ok",
     "timestamp": 1647614729161,
     "user": {
      "displayName": "16_038 Niloy Banik",
      "photoUrl": "https://lh3.googleusercontent.com/a-/AOh14GgRGQZD8Tl4xOLCNeLcfxfcPprIAW7QZ1CwfRM8=s64",
      "userId": "08142048259396518017"
     },
     "user_tz": -360
    },
    "id": "4ytXBJAkCaDk",
    "outputId": "2eaba248-66f7-4890-d140-40437748a7c5"
   },
   "outputs": [
    {
     "data": {
      "text/plain": [
       "array([0, 0, 0, 0, 0, 0, 0, 0, 0, 0, 0, 0, 0, 0, 0, 0, 0, 0, 0, 0, 0, 0,\n",
       "       0, 0, 0, 0, 0, 0, 0, 0, 0, 0, 0, 0, 0, 0, 0, 0, 0, 0, 0, 0, 0, 0,\n",
       "       0, 0, 0, 0, 0, 0, 0, 0, 0, 0, 0, 0, 0, 0, 0, 0, 0, 0, 0, 0, 0, 0,\n",
       "       0, 0, 0, 0, 0, 0, 1, 1, 1, 1, 1, 1, 1, 1, 1, 1, 1, 1, 1, 1, 1, 1,\n",
       "       1, 1, 1, 1, 1, 1, 1, 1, 1, 1, 1, 1, 1, 1, 1, 1, 1, 1, 1, 1, 1, 1,\n",
       "       1, 1, 1, 1, 1, 1, 1, 1, 1, 1, 1, 1, 1, 1, 1, 1, 1, 1, 1, 1, 1, 1,\n",
       "       2, 2, 2, 2, 2, 2, 2, 2, 2, 2, 2, 2, 2, 2, 2, 2, 2, 2, 2, 2, 2, 2,\n",
       "       2, 2, 2, 2, 2, 2, 2, 2, 2, 2, 2, 2, 2, 2, 2, 2, 2, 2, 2, 2, 2, 2,\n",
       "       2, 2, 2, 2, 2, 2, 2, 2, 2, 2, 2, 2, 2, 2, 2, 2, 3, 3, 3, 3, 3, 3,\n",
       "       3, 3, 3, 3, 3, 3, 3, 3, 3, 3, 3, 3, 3, 3, 3, 3, 3, 3, 3, 3, 3, 3,\n",
       "       3, 3, 3, 3, 3, 3, 3, 3, 3, 3, 3, 3, 3, 3, 3, 3, 3, 3, 3, 3, 3, 3,\n",
       "       3, 3, 3, 3, 3, 3, 3, 3, 3, 3, 4, 4, 4, 4, 4, 4, 4, 4, 4, 4, 4, 4,\n",
       "       4, 4, 4, 4, 4, 4, 4, 4, 4, 4, 4, 4, 4, 4, 4, 4, 4, 4, 4, 4, 4, 4,\n",
       "       4, 4, 4, 4, 4, 4, 4, 4, 4, 4, 4, 4, 4, 4, 4, 4, 4, 4, 4, 4, 4, 4,\n",
       "       4, 4, 4, 4, 5, 5, 5, 5, 5, 5, 5, 5, 5, 5, 5, 5, 5, 5, 5, 5, 5, 5,\n",
       "       5, 5, 5, 5, 5, 5, 5, 5, 5, 5, 5, 5, 5, 5, 5, 5, 5, 5, 5, 5, 5, 5,\n",
       "       5, 5, 5, 5, 5, 5, 5, 5, 5, 5, 5, 5, 5, 5, 5, 5, 5, 5, 5, 5, 5, 5,\n",
       "       5, 5, 5, 5, 5, 5, 5, 5, 5, 5, 6, 6, 6, 6, 6, 6, 6, 6, 6, 6, 6, 6,\n",
       "       6, 6, 6, 6, 6, 6, 6, 6, 6, 6, 6, 6, 6, 6, 6, 6, 6, 6, 6, 6, 6, 6,\n",
       "       6, 6, 6, 6, 6, 6, 6, 6, 6, 6, 6, 6, 6, 7, 7, 7, 7, 7, 7, 7, 7, 7,\n",
       "       7, 7, 7, 7, 7, 7, 7, 7, 7, 7, 7, 7, 7, 7, 7, 7, 7, 7, 7, 7, 7, 7,\n",
       "       7, 7, 7, 7, 7, 7, 7, 7, 7, 7, 7, 7, 7, 7, 7, 7, 7, 7, 7, 7, 7, 7,\n",
       "       7, 7, 7, 7, 7, 7, 7, 7, 7, 7, 7, 7, 7, 7, 7, 7, 7, 7, 7, 8, 8, 8,\n",
       "       8, 8, 8, 8, 8, 8, 8, 8, 8, 8, 8, 8, 8, 8, 8, 8, 8, 8, 8, 8, 8, 8,\n",
       "       8, 8, 8, 8, 8, 8, 8, 8, 8, 8, 8, 8, 8, 8, 8, 8, 8, 8, 8, 8, 8, 8,\n",
       "       8, 8, 8, 8, 8, 8, 8, 8, 8, 8, 8, 8, 8, 8, 8, 8, 8, 8, 8, 8, 8, 8,\n",
       "       8, 8, 8], dtype=int32)"
      ]
     },
     "execution_count": 30,
     "metadata": {},
     "output_type": "execute_result"
    }
   ],
   "source": [
    "test_classes=test_set.classes\n",
    "test_classes"
   ]
  },
  {
   "cell_type": "code",
   "execution_count": 31,
   "metadata": {
    "colab": {
     "base_uri": "https://localhost:8080/"
    },
    "executionInfo": {
     "elapsed": 737,
     "status": "ok",
     "timestamp": 1647614733717,
     "user": {
      "displayName": "16_038 Niloy Banik",
      "photoUrl": "https://lh3.googleusercontent.com/a-/AOh14GgRGQZD8Tl4xOLCNeLcfxfcPprIAW7QZ1CwfRM8=s64",
      "userId": "08142048259396518017"
     },
     "user_tz": -360
    },
    "id": "h5xTvT83CaHE",
    "outputId": "b1159fbb-d087-4cb7-d3fb-59871f17faa7"
   },
   "outputs": [
    {
     "name": "stdout",
     "output_type": "stream",
     "text": [
      "[[72  0  0  0  0  0  0  0  0]\n",
      " [ 0 60  0  0  0  0  0  0  0]\n",
      " [ 0  0 60  0  0  0  0  0  0]\n",
      " [ 0  0  0 60  0  0  0  0  0]\n",
      " [ 0  3  0  0 57  0  0  0  0]\n",
      " [ 0  0  0  0  0 72  0  0  0]\n",
      " [ 0  0  0  0  0  0 47  0  0]\n",
      " [ 0  0  0  0  3  0  0 69  0]\n",
      " [ 0  0  0  0  0  0  0  0 72]]\n"
     ]
    }
   ],
   "source": [
    "from sklearn.metrics import confusion_matrix\n",
    "cm=confusion_matrix(test_classes,predicted_class)\n",
    "print(cm)"
   ]
  },
  {
   "cell_type": "code",
   "execution_count": 32,
   "metadata": {
    "colab": {
     "base_uri": "https://localhost:8080/",
     "height": 290
    },
    "executionInfo": {
     "elapsed": 1545,
     "status": "ok",
     "timestamp": 1647614738318,
     "user": {
      "displayName": "16_038 Niloy Banik",
      "photoUrl": "https://lh3.googleusercontent.com/a-/AOh14GgRGQZD8Tl4xOLCNeLcfxfcPprIAW7QZ1CwfRM8=s64",
      "userId": "08142048259396518017"
     },
     "user_tz": -360
    },
    "id": "INe33hP0CaNO",
    "outputId": "62db55b0-850a-4a9c-84b3-52778198b07b"
   },
   "outputs": [
    {
     "data": {
      "text/plain": [
       "<matplotlib.axes._subplots.AxesSubplot at 0x7fed10066f10>"
      ]
     },
     "execution_count": 32,
     "metadata": {},
     "output_type": "execute_result"
    },
    {
     "data": {
      "image/png": "[encoded data removed]",
      "text/plain": [
       "<Figure size 432x288 with 2 Axes>"
      ]
     },
     "metadata": {},
     "output_type": "display_data"
    }
   ],
   "source": [
    "import seaborn as sns\n",
    "sns.set(font_scale=1.4)\n",
    "sns.heatmap(cm, annot=True,fmt='d',cmap=\"Blues\")"
   ]
  },
  {
   "cell_type": "code",
   "execution_count": 33,
   "metadata": {
    "colab": {
     "base_uri": "https://localhost:8080/"
    },
    "executionInfo": {
     "elapsed": 555,
     "status": "ok",
     "timestamp": 1647614744186,
     "user": {
      "displayName": "16_038 Niloy Banik",
      "photoUrl": "https://lh3.googleusercontent.com/a-/AOh14GgRGQZD8Tl4xOLCNeLcfxfcPprIAW7QZ1CwfRM8=s64",
      "userId": "08142048259396518017"
     },
     "user_tz": -360
    },
    "id": "vIpieiE-CaPH",
    "outputId": "28c18b27-198e-4594-93ea-6e1384326b94"
   },
   "outputs": [
    {
     "name": "stdout",
     "output_type": "stream",
     "text": [
      "Accuracy score:  0.9895652173913043\n"
     ]
    }
   ],
   "source": [
    "from sklearn.metrics import accuracy_score\n",
    "print('Accuracy score: ',accuracy_score(test_classes,predicted_class))"
   ]
  },
  {
   "cell_type": "code",
   "execution_count": 34,
   "metadata": {
    "colab": {
     "base_uri": "https://localhost:8080/"
    },
    "executionInfo": {
     "elapsed": 8,
     "status": "ok",
     "timestamp": 1647614749946,
     "user": {
      "displayName": "16_038 Niloy Banik",
      "photoUrl": "https://lh3.googleusercontent.com/a-/AOh14GgRGQZD8Tl4xOLCNeLcfxfcPprIAW7QZ1CwfRM8=s64",
      "userId": "08142048259396518017"
     },
     "user_tz": -360
    },
    "id": "ZuPBzxn4CaQg",
    "outputId": "daa1af0f-d951-4450-b56d-384f9a8ed0d4"
   },
   "outputs": [
    {
     "name": "stdout",
     "output_type": "stream",
     "text": [
      "Classification Report \n",
      "               precision    recall  f1-score   support\n",
      "\n",
      "           0       1.00      1.00      1.00        72\n",
      "           1       0.95      1.00      0.98        60\n",
      "           2       1.00      1.00      1.00        60\n",
      "           3       1.00      1.00      1.00        60\n",
      "           4       0.95      0.95      0.95        60\n",
      "           5       1.00      1.00      1.00        72\n",
      "           6       1.00      1.00      1.00        47\n",
      "           7       1.00      0.96      0.98        72\n",
      "           8       1.00      1.00      1.00        72\n",
      "\n",
      "    accuracy                           0.99       575\n",
      "   macro avg       0.99      0.99      0.99       575\n",
      "weighted avg       0.99      0.99      0.99       575\n",
      "\n"
     ]
    }
   ],
   "source": [
    "from sklearn.metrics import classification_report\n",
    "print('Classification Report \\n',classification_report(test_classes,predicted_class))"
   ]
  },
  {
   "cell_type": "code",
   "execution_count": 35,
   "metadata": {
    "colab": {
     "base_uri": "https://localhost:8080/"
    },
    "executionInfo": {
     "elapsed": 447,
     "status": "ok",
     "timestamp": 1647614761196,
     "user": {
      "displayName": "16_038 Niloy Banik",
      "photoUrl": "https://lh3.googleusercontent.com/a-/AOh14GgRGQZD8Tl4xOLCNeLcfxfcPprIAW7QZ1CwfRM8=s64",
      "userId": "08142048259396518017"
     },
     "user_tz": -360
    },
    "id": "uXl1QwP_e3dz",
    "outputId": "797dad78-f642-45a2-8d3e-9ed71e1a0239"
   },
   "outputs": [
    {
     "name": "stdout",
     "output_type": "stream",
     "text": [
      "Final Thesis/Saved Model/Model_11_vgg16_Pretrained0.9895651936531067_model_1647614762.h5\n"
     ]
    }
   ],
   "source": [
    "import time\n",
    "t = time.time()\n",
    "\n",
    "export_path_keras = \"Final Thesis/Saved Model/Model_11_vgg16_Pretrained{}_model_{}.h5\".format(test_accuracy,int(t))\n",
    "print(export_path_keras)\n",
    "vgg16_model.save(export_path_keras)\n"
   ]
  },
  {
   "cell_type": "code",
   "execution_count": 36,
   "metadata": {
    "executionInfo": {
     "elapsed": 443,
     "status": "ok",
     "timestamp": 1647614765198,
     "user": {
      "displayName": "16_038 Niloy Banik",
      "photoUrl": "https://lh3.googleusercontent.com/a-/AOh14GgRGQZD8Tl4xOLCNeLcfxfcPprIAW7QZ1CwfRM8=s64",
      "userId": "08142048259396518017"
     },
     "user_tz": -360
    },
    "id": "eK6nWr87eisw"
   },
   "outputs": [],
   "source": [
    "from tensorflow.keras.models import load_model"
   ]
  },
  {
   "cell_type": "code",
   "execution_count": 37,
   "metadata": {
    "colab": {
     "base_uri": "https://localhost:8080/"
    },
    "executionInfo": {
     "elapsed": 1183,
     "status": "ok",
     "timestamp": 1647614768855,
     "user": {
      "displayName": "16_038 Niloy Banik",
      "photoUrl": "https://lh3.googleusercontent.com/a-/AOh14GgRGQZD8Tl4xOLCNeLcfxfcPprIAW7QZ1CwfRM8=s64",
      "userId": "08142048259396518017"
     },
     "user_tz": -360
    },
    "id": "CYsXbaQfeiul",
    "outputId": "80c93563-fa5e-4aa0-8d54-a7834cd932aa"
   },
   "outputs": [
    {
     "name": "stdout",
     "output_type": "stream",
     "text": [
      "Model: \"sequential\"\n",
      "_________________________________________________________________\n",
      " Layer (type)                Output Shape              Param #   \n",
      "=================================================================\n",
      " vgg16 (Functional)          (None, 512)               14714688  \n",
      "                                                                 \n",
      " flatten (Flatten)           (None, 512)               0         \n",
      "                                                                 \n",
      " dense (Dense)               (None, 512)               262656    \n",
      "                                                                 \n",
      " dense_1 (Dense)             (None, 9)                 4617      \n",
      "                                                                 \n",
      "=================================================================\n",
      "Total params: 14,981,961\n",
      "Trainable params: 267,273\n",
      "Non-trainable params: 14,714,688\n",
      "_________________________________________________________________\n"
     ]
    }
   ],
   "source": [
    "model_path=export_path_keras\n",
    "reload_model=load_model(model_path)\n",
    "reload_model.summary()"
   ]
  },
  {
   "cell_type": "code",
   "execution_count": 38,
   "metadata": {
    "colab": {
     "base_uri": "https://localhost:8080/"
    },
    "executionInfo": {
     "elapsed": 488,
     "status": "ok",
     "timestamp": 1647614772816,
     "user": {
      "displayName": "16_038 Niloy Banik",
      "photoUrl": "https://lh3.googleusercontent.com/a-/AOh14GgRGQZD8Tl4xOLCNeLcfxfcPprIAW7QZ1CwfRM8=s64",
      "userId": "08142048259396518017"
     },
     "user_tz": -360
    },
    "id": "QSsdUtyxeiyv",
    "outputId": "d5684666-a697-490b-c274-c3be84d6cdb5"
   },
   "outputs": [
    {
     "name": "stdout",
     "output_type": "stream",
     "text": [
      "30\n",
      "(None, 9)\n"
     ]
    }
   ],
   "source": [
    "print(len(reload_model.weights))\n",
    "print(reload_model.output_shape)"
   ]
  },
  {
   "cell_type": "code",
   "execution_count": 39,
   "metadata": {
    "colab": {
     "base_uri": "https://localhost:8080/"
    },
    "executionInfo": {
     "elapsed": 456,
     "status": "ok",
     "timestamp": 1647614776069,
     "user": {
      "displayName": "16_038 Niloy Banik",
      "photoUrl": "https://lh3.googleusercontent.com/a-/AOh14GgRGQZD8Tl4xOLCNeLcfxfcPprIAW7QZ1CwfRM8=s64",
      "userId": "08142048259396518017"
     },
     "user_tz": -360
    },
    "id": "wzcnXP6Sei4L",
    "outputId": "24b5d8b6-65a8-437b-f44e-ee95e30787a3"
   },
   "outputs": [
    {
     "data": {
      "text/plain": [
       "[<keras.engine.functional.Functional at 0x7fec35ecaa90>,\n",
       " <keras.layers.core.flatten.Flatten at 0x7fec35ec7f50>,\n",
       " <keras.layers.core.dense.Dense at 0x7fec35e9ced0>,\n",
       " <keras.layers.core.dense.Dense at 0x7fec35e4b3d0>]"
      ]
     },
     "execution_count": 39,
     "metadata": {},
     "output_type": "execute_result"
    }
   ],
   "source": [
    "reload_model.layers"
   ]
  },
  {
   "cell_type": "code",
   "execution_count": 40,
   "metadata": {
    "colab": {
     "base_uri": "https://localhost:8080/"
    },
    "executionInfo": {
     "elapsed": 7926,
     "status": "ok",
     "timestamp": 1647614792649,
     "user": {
      "displayName": "16_038 Niloy Banik",
      "photoUrl": "https://lh3.googleusercontent.com/a-/AOh14GgRGQZD8Tl4xOLCNeLcfxfcPprIAW7QZ1CwfRM8=s64",
      "userId": "08142048259396518017"
     },
     "user_tz": -360
    },
    "id": "JdURoir8ei58",
    "outputId": "acd8a64c-eddf-4e6d-b9ad-4bc1081266fb"
   },
   "outputs": [
    {
     "name": "stdout",
     "output_type": "stream",
     "text": [
      "Final Thesis/Saved Model/Model_11_vgg16_Pretrained 0.9895651936531067 Model 1647614786\n",
      "INFO:tensorflow:Assets written to: Final Thesis/Saved Model/Model_11_vgg16_Pretrained 0.9895651936531067 Model 1647614786/assets\n"
     ]
    }
   ],
   "source": [
    "t = time.time()\n",
    "\n",
    "export_path_sm = \"Final Thesis/Saved Model/Model_11_vgg16_Pretrained {} Model {}\".format(test_accuracy,int(t))\n",
    "print(export_path_sm)\n",
    "\n",
    "tf.saved_model.save(vgg16_model, export_path_sm)"
   ]
  },
  {
   "cell_type": "code",
   "execution_count": 41,
   "metadata": {
    "executionInfo": {
     "elapsed": 1747,
     "status": "ok",
     "timestamp": 1647614816549,
     "user": {
      "displayName": "16_038 Niloy Banik",
      "photoUrl": "https://lh3.googleusercontent.com/a-/AOh14GgRGQZD8Tl4xOLCNeLcfxfcPprIAW7QZ1CwfRM8=s64",
      "userId": "08142048259396518017"
     },
     "user_tz": -360
    },
    "id": "EZWLeik0ei8n"
   },
   "outputs": [],
   "source": [
    "reload_tf_saved_model=tf.saved_model.load(export_path_sm)"
   ]
  },
  {
   "cell_type": "code",
   "execution_count": 42,
   "metadata": {
    "colab": {
     "base_uri": "https://localhost:8080/"
    },
    "executionInfo": {
     "elapsed": 508,
     "status": "ok",
     "timestamp": 1647614819963,
     "user": {
      "displayName": "16_038 Niloy Banik",
      "photoUrl": "https://lh3.googleusercontent.com/a-/AOh14GgRGQZD8Tl4xOLCNeLcfxfcPprIAW7QZ1CwfRM8=s64",
      "userId": "08142048259396518017"
     },
     "user_tz": -360
    },
    "id": "VY2En094ei-c",
    "outputId": "fb8773d1-589e-4a23-e098-68eff6560413"
   },
   "outputs": [
    {
     "data": {
      "text/plain": [
       "<ConcreteFunction signature_wrapper(*, vgg16_input) at 0x7FEC33365250>"
      ]
     },
     "execution_count": 42,
     "metadata": {},
     "output_type": "execute_result"
    }
   ],
   "source": [
    "reload_tf_saved_model.signatures['serving_default']"
   ]
  },
  {
   "cell_type": "code",
   "execution_count": 43,
   "metadata": {
    "colab": {
     "base_uri": "https://localhost:8080/"
    },
    "executionInfo": {
     "elapsed": 4,
     "status": "ok",
     "timestamp": 1647614823071,
     "user": {
      "displayName": "16_038 Niloy Banik",
      "photoUrl": "https://lh3.googleusercontent.com/a-/AOh14GgRGQZD8Tl4xOLCNeLcfxfcPprIAW7QZ1CwfRM8=s64",
      "userId": "08142048259396518017"
     },
     "user_tz": -360
    },
    "id": "epS_8oHzejBk",
    "outputId": "bb7f14b2-bbdd-487a-9ef2-7026a0287738"
   },
   "outputs": [
    {
     "data": {
      "text/plain": [
       "<tensorflow.python.saved_model.load.Loader._recreate_base_user_object.<locals>._UserObject at 0x7fec35bc25d0>"
      ]
     },
     "execution_count": 43,
     "metadata": {},
     "output_type": "execute_result"
    }
   ],
   "source": [
    "reload_tf_saved_model"
   ]
  },
  {
   "cell_type": "code",
   "execution_count": 44,
   "metadata": {
    "executionInfo": {
     "elapsed": 742,
     "status": "ok",
     "timestamp": 1647614826860,
     "user": {
      "displayName": "16_038 Niloy Banik",
      "photoUrl": "https://lh3.googleusercontent.com/a-/AOh14GgRGQZD8Tl4xOLCNeLcfxfcPprIAW7QZ1CwfRM8=s64",
      "userId": "08142048259396518017"
     },
     "user_tz": -360
    },
    "id": "zvJHAwuGejDN"
   },
   "outputs": [],
   "source": [
    "model=reload_model"
   ]
  },
  {
   "cell_type": "code",
   "execution_count": null,
   "metadata": {
    "id": "zrQENizCejGr"
   },
   "outputs": [],
   "source": []
  }
 ],
 "metadata": {
  "accelerator": "GPU",
  "colab": {
   "authorship_tag": "ABX9TyNDTIsC+XmxQ+2XVWz38isE",
   "collapsed_sections": [],
   "name": "VGG16_BankNotes.ipynb",
   "provenance": []
  },
  "kernelspec": {
   "display_name": "Python 3",
   "language": "python",
   "name": "python3"
  },
  "language_info": {
   "codemirror_mode": {
    "name": "ipython",
    "version": 3
   },
   "file_extension": ".py",
   "mimetype": "text/x-python",
   "name": "python",
   "nbconvert_exporter": "python",
   "pygments_lexer": "ipython3",
   "version": "3.6.13"
  }
 },
 "nbformat": 4,
 "nbformat_minor": 1
}
