{
 "cells": [
  {
   "cell_type": "code",
   "execution_count": 9,
   "metadata": {},
   "outputs": [
    {
     "name": "stderr",
     "output_type": "stream",
     "text": [
      "usage: ipykernel_launcher.py [-h] -i INPUT_PATH [-t THRESHOLD]\n",
      "ipykernel_launcher.py: error: the following arguments are required: -i/--input_path\n"
     ]
    },
    {
     "ename": "SystemExit",
     "evalue": "2",
     "output_type": "error",
     "traceback": [
      "An exception has occurred, use %tb to see the full traceback.\n",
      "\u001b[1;31mSystemExit\u001b[0m\u001b[1;31m:\u001b[0m 2\n"
     ]
    },
    {
     "name": "stderr",
     "output_type": "stream",
     "text": [
      "C:\\Users\\Niloy\\Anaconda3\\lib\\site-packages\\IPython\\core\\interactiveshell.py:3334: UserWarning: To exit: use 'exit', 'quit', or Ctrl-D.\n",
      "  warn(\"To exit: use 'exit', 'quit', or Ctrl-D.\", stacklevel=1)\n"
     ]
    }
   ],
   "source": [
    "\n",
    "\n",
    "#!/usr/bin/env python3\n",
    "# -*- coding: utf-8 -*-\n",
    "\"\"\"\n",
    "Created on Sat Mar 16 17:42:52 2019\n",
    "\n",
    "@author: pedrofRodenas\n",
    "\"\"\"\n",
    "\n",
    "import cv2\n",
    "import numpy as np\n",
    "import argparse\n",
    "import ntpath\n",
    "import os\n",
    "\n",
    "\n",
    "def adaptative_thresholding(path, threshold):\n",
    "    \n",
    "    # Load image\n",
    "    I = cv2.imread(path)\n",
    "    \n",
    "    # Convert image to grayscale\n",
    "    gray = cv2.cvtColor(I, cv2.COLOR_BGR2GRAY)\n",
    "    \n",
    "    # Original image size\n",
    "    orignrows, origncols = gray.shape\n",
    "    \n",
    "    # Windows size\n",
    "    M = int(np.floor(orignrows/16) + 1)\n",
    "    N = int(np.floor(origncols/16) + 1)\n",
    "    \n",
    "    # Image border padding related to windows size\n",
    "    Mextend = round(M/2)-1\n",
    "    Nextend = round(N/2)-1\n",
    "    \n",
    "    # Padding image\n",
    "    aux =cv2.copyMakeBorder(gray, top=Mextend, bottom=Mextend, left=Nextend,\n",
    "                          right=Nextend, borderType=cv2.BORDER_REFLECT)\n",
    "    \n",
    "    windows = np.zeros((M,N),np.int32)\n",
    "    \n",
    "    # Image integral calculation\n",
    "    imageIntegral = cv2.integral(aux, windows,-1)\n",
    "    \n",
    "    # Integral image size\n",
    "    nrows, ncols = imageIntegral.shape\n",
    "    \n",
    "    # Memory allocation for cumulative region image\n",
    "    result = np.zeros((orignrows, origncols))\n",
    "    \n",
    "    # Image cumulative pixels in windows size calculation\n",
    "    for i in range(nrows-M):\n",
    "        for j in range(ncols-N):\n",
    "        \n",
    "            result[i, j] = imageIntegral[i+M, j+N] - imageIntegral[i, j+N]+ imageIntegral[i, j] - imageIntegral[i+M,j]\n",
    "     \n",
    "    # Output binary image memory allocation    \n",
    "    binar = np.ones((orignrows, origncols), dtype=np.bool)\n",
    "    \n",
    "    # Gray image weighted by windows size\n",
    "    graymult = (gray).astype('float64')*M*N\n",
    "    \n",
    "    # Output image binarization\n",
    "    binar[graymult <= result*(100.0 - threshold)/100.0] = False\n",
    "    \n",
    "    # binary image to UINT8 conversion\n",
    "    binar = (255*binar).astype(np.uint8)\n",
    "    \n",
    "    return binar\n",
    "\n",
    "\n",
    "if __name__ == '__main__':                \n",
    "    parser = argparse.ArgumentParser(description='applies adaptative binarization and saves output.')\n",
    "    parser.add_argument('-i', '--input_path', dest=\"input_path\", type=str, required=True, help=\"image path\")\n",
    "    parser.add_argument(\"-t\", \"--threshold\", dest='threshold', type=float, default=25, help=\"binarization threshold\")\n",
    "    \n",
    "    args = parser.parse_args()\n",
    "\n",
    "    if not os.path.exists(args.input_path):\n",
    "        raise IOError('input file does not exit')\n",
    "    \n",
    "    if not  0 < args.threshold < 100:\n",
    "        raise IOError('threshold must be between 0 and 100')\n",
    "        \n",
    "    \n",
    "    output = adaptative_thresholding(args.input_path, args.threshold)\n",
    "    \n",
    "    imgname = ntpath.basename(args.input_path)\n",
    "\n",
    "    cv2.imwrite(os.path.splitext(imgname)[0]+'_bin'+os.path.splitext(imgname)[1], output)\n",
    "        \n",
    "    \n",
    "\n"
   ]
  },
  {
   "cell_type": "code",
   "execution_count": null,
   "metadata": {},
   "outputs": [],
   "source": []
  },
  {
   "cell_type": "code",
   "execution_count": null,
   "metadata": {},
   "outputs": [],
   "source": []
  },
  {
   "cell_type": "code",
   "execution_count": null,
   "metadata": {},
   "outputs": [],
   "source": []
  }
 ],
 "metadata": {
  "kernelspec": {
   "display_name": "Python 3",
   "language": "python",
   "name": "python3"
  },
  "language_info": {
   "codemirror_mode": {
    "name": "ipython",
    "version": 3
   },
   "file_extension": ".py",
   "mimetype": "text/x-python",
   "name": "python",
   "nbconvert_exporter": "python",
   "pygments_lexer": "ipython3",
   "version": "3.6.13"
  }
 },
 "nbformat": 4,
 "nbformat_minor": 2
}
